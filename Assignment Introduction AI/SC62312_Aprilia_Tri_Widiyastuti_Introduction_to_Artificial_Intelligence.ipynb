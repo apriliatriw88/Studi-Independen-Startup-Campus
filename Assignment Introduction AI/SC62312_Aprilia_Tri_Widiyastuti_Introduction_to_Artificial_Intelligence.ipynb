{
  "nbformat": 4,
  "nbformat_minor": 0,
  "metadata": {
    "colab": {
      "provenance": []
    },
    "kernelspec": {
      "name": "python3",
      "display_name": "Python 3"
    },
    "language_info": {
      "name": "python"
    }
  },
  "cells": [
    {
      "cell_type": "markdown",
      "source": [
        "# ASSIGNMENT 5\n",
        "**Tim 23B**\n",
        "1.   Moh.Syihabuddin\n",
        "2.   Sisfy Anjani\n",
        "3.   Hani Agustina\n",
        "4.   Aprilia Tri Widiyastuti\n",
        "5.   Ikhsan Danu Nugroho\n",
        "6.   Muhammad Kautsar\n",
        "\n",
        "\n",
        "\n",
        "\n"
      ],
      "metadata": {
        "id": "WqSt1s2XYNqk"
      }
    },
    {
      "cell_type": "markdown",
      "source": [
        "## Import Library"
      ],
      "metadata": {
        "id": "UC4kojspo4-1"
      }
    },
    {
      "cell_type": "code",
      "execution_count": null,
      "metadata": {
        "id": "VXGZriYjDrCX",
        "colab": {
          "base_uri": "https://localhost:8080/"
        },
        "outputId": "18a5cb3c-c077-4a96-e9fc-ad65c13696df"
      },
      "outputs": [
        {
          "output_type": "stream",
          "name": "stderr",
          "text": [
            "[nltk_data] Downloading collection 'popular'\n",
            "[nltk_data]    | \n",
            "[nltk_data]    | Downloading package cmudict to /root/nltk_data...\n",
            "[nltk_data]    |   Unzipping corpora/cmudict.zip.\n",
            "[nltk_data]    | Downloading package gazetteers to /root/nltk_data...\n",
            "[nltk_data]    |   Unzipping corpora/gazetteers.zip.\n",
            "[nltk_data]    | Downloading package genesis to /root/nltk_data...\n",
            "[nltk_data]    |   Unzipping corpora/genesis.zip.\n",
            "[nltk_data]    | Downloading package gutenberg to /root/nltk_data...\n",
            "[nltk_data]    |   Unzipping corpora/gutenberg.zip.\n",
            "[nltk_data]    | Downloading package inaugural to /root/nltk_data...\n",
            "[nltk_data]    |   Unzipping corpora/inaugural.zip.\n",
            "[nltk_data]    | Downloading package movie_reviews to\n",
            "[nltk_data]    |     /root/nltk_data...\n",
            "[nltk_data]    |   Unzipping corpora/movie_reviews.zip.\n",
            "[nltk_data]    | Downloading package names to /root/nltk_data...\n",
            "[nltk_data]    |   Unzipping corpora/names.zip.\n",
            "[nltk_data]    | Downloading package shakespeare to /root/nltk_data...\n",
            "[nltk_data]    |   Unzipping corpora/shakespeare.zip.\n",
            "[nltk_data]    | Downloading package stopwords to /root/nltk_data...\n",
            "[nltk_data]    |   Unzipping corpora/stopwords.zip.\n",
            "[nltk_data]    | Downloading package treebank to /root/nltk_data...\n",
            "[nltk_data]    |   Unzipping corpora/treebank.zip.\n",
            "[nltk_data]    | Downloading package twitter_samples to\n",
            "[nltk_data]    |     /root/nltk_data...\n",
            "[nltk_data]    |   Unzipping corpora/twitter_samples.zip.\n",
            "[nltk_data]    | Downloading package omw to /root/nltk_data...\n",
            "[nltk_data]    | Downloading package omw-1.4 to /root/nltk_data...\n",
            "[nltk_data]    | Downloading package wordnet to /root/nltk_data...\n",
            "[nltk_data]    | Downloading package wordnet2021 to /root/nltk_data...\n",
            "[nltk_data]    | Downloading package wordnet31 to /root/nltk_data...\n",
            "[nltk_data]    | Downloading package wordnet_ic to /root/nltk_data...\n",
            "[nltk_data]    |   Unzipping corpora/wordnet_ic.zip.\n",
            "[nltk_data]    | Downloading package words to /root/nltk_data...\n",
            "[nltk_data]    |   Unzipping corpora/words.zip.\n",
            "[nltk_data]    | Downloading package maxent_ne_chunker to\n",
            "[nltk_data]    |     /root/nltk_data...\n",
            "[nltk_data]    |   Unzipping chunkers/maxent_ne_chunker.zip.\n",
            "[nltk_data]    | Downloading package punkt to /root/nltk_data...\n",
            "[nltk_data]    |   Unzipping tokenizers/punkt.zip.\n",
            "[nltk_data]    | Downloading package snowball_data to\n",
            "[nltk_data]    |     /root/nltk_data...\n",
            "[nltk_data]    | Downloading package averaged_perceptron_tagger to\n",
            "[nltk_data]    |     /root/nltk_data...\n",
            "[nltk_data]    |   Unzipping taggers/averaged_perceptron_tagger.zip.\n",
            "[nltk_data]    | \n",
            "[nltk_data]  Done downloading collection popular\n"
          ]
        }
      ],
      "source": [
        "import nltk\n",
        "from nltk.stem import WordNetLemmatizer\n",
        "nltk.download(\"popular\")\n",
        "from nltk.stem import WordNetLemmatizer\n",
        "from nltk.corpus import stopwords\n",
        "from nltk.tokenize import sent_tokenize, word_tokenize\n",
        "from sklearn.feature_extraction.text import CountVectorizer"
      ]
    },
    {
      "cell_type": "markdown",
      "source": [
        "## Artikel\n",
        "\n",
        "\n"
      ],
      "metadata": {
        "id": "ePI5KlCQo-qD"
      }
    },
    {
      "cell_type": "markdown",
      "source": [
        "1. Kesehatan\n",
        "link https://www.herminahospitals.com/id/articles/pentingnya-menjaga-kesehatan-jantung-sejak-dini.html\n",
        "\n",
        "2. Olahraga\n",
        "link https://www.kompasiana.com/momonsudarma/66298b641470930f042cc812/5-alasan-kekalahan-liverpool\n",
        "\n",
        "3. Keuangan\n",
        "link: https://sikapiuangmu.ojk.go.id/FrontEnd/CMS/Article/20665"
      ],
      "metadata": {
        "id": "qNw02ha9qHEm"
      }
    },
    {
      "cell_type": "markdown",
      "source": [
        "## Menghitung Vektor Bag-of-Words setiap topik"
      ],
      "metadata": {
        "id": "RAPuwiTIqQ7F"
      }
    },
    {
      "cell_type": "code",
      "source": [
        "lemmatizer = WordNetLemmatizer()\n",
        "\n",
        "# Three texts with labeled topic\n",
        "text_sport = \"Last night. It's a night where some people can sleep soundly, and others can't sleep well. That was the condition, when watching the Everton and Liverpool match. The end result was pleasing for Everton, and very painful for Liverpool, making last night's beauty something less enjoyable for Liverpool fans. For football fans, of course, the flow of the game and the rhythm of the game are still fun to watch. The match between the skills of the top clubs, with the enthusiasm and enthusiasm of the lower clubs, presents an exciting match drama to enjoy. Calculating on paper, Liverpool should be able to overcome this match, but the soccer ball is still the same as before, it is round and can roll at any time and anywhere.\"\n",
        "text_medical = \"The heart is a vital organ that works non-stop because it plays an important role in pumping blood throughout the body to support survival. Even though you are still young, that doesn't mean that Hermina's friends don't need to maintain heart health. In fact, by implementing a healthy lifestyle or habits that are good for the heart as early as possible, Hermina's friends can have a heart that remains healthy until they are old. Although strokes, heart attacks, or other heart conditions are more common in people over 60 years old, young people in their 20s also need to be aware of heart disease. Heart disease at a young age can occur due to an unhealthy lifestyle, such as lack of exercise, poor diet, and other unhealthy habits that have been carried out for years. Therefore, changing your lifestyle to a healthier one can be an important investment for heart health in the long term.\"\n",
        "text_finance = \"A teacher's salary can vary greatly because it can be influenced by several factors such as employee rank, competency, educator certification, performance assessment, work experience and other factors. No matter how much salary you receive, the most important thing is how to manage your salary wisely. Therefore, recording expenses and income and preparing a monthly budget is important in order to manage your salary wisely. To increase financial strength, apart from relying on salary, teachers can also increase their source of income by looking for additional work such as providing additional private lessons outside of lessons, opening a side business or other additional work. By having additional income, this can strengthen your financial condition and speed up efforts to achieve financial goals.\"\n",
        "\n",
        "texts = [text_sport, text_medical, text_finance]\n",
        "bow_keys = []\n",
        "corpus_texts = []\n",
        "for text in texts:\n",
        "    words  = word_tokenize(text)\n",
        "    texts = [lemmatizer.lemmatize(word) for word in words if word not in set(stopwords.words('english'))]\n",
        "    bow_keys += texts\n",
        "    text = ' '.join(texts)\n",
        "    corpus_texts.append(text)\n",
        "bow_keys = set(bow_keys)\n",
        "print(bow_keys)\n",
        "print(corpus_texts)"
      ],
      "metadata": {
        "colab": {
          "base_uri": "https://localhost:8080/"
        },
        "id": "0rJc2OVlIKYA",
        "outputId": "b8a32ef3-3a1e-4197-cb87-ff27976fb34b"
      },
      "execution_count": null,
      "outputs": [
        {
          "output_type": "stream",
          "name": "stdout",
          "text": [
            "{'investment', 'employee', 'apart', 'lifestyle', 'condition', 'body', 'occur', 'pumping', 'enjoyable', 'survival', 'maintain', 'poor', 'several', 'side', 'In', 'factor', 'health', 'unhealthy', 'greatly', 'rhythm', 'friend', 'organ', 'making', 'providing', 'teacher', 'due', 'experience', 'It', 'expense', 'something', 'private', 'Liverpool', ',', 'thing', 'age', 'club', 'additional', 'rank', 'throughout', 'Heart', 'recording', 'Everton', 'mean', 'wisely', 'role', 'remains', 'lack', 'night', 'able', 'watch', 'long', 'support', '60', 'blood', 'changing', 'relying', 'business', '.', 'play', 'others', 'painful', 'matter', 'That', 'A', 'competency', 'performance', 'match', 'fact', 'goal', 'disease', 'soccer', 'though', 'young', 'good', 'heart', '20', 'sleep', 'certification', 'much', 'skill', 'fan', 'achieve', 'still', 'non-stop', \"'s\", 'possible', 'term', 'stroke', 'salary', 'football', 'budget', 'increase', 'ca', 'vary', 'Hermina', 'speed', 'watching', 'pleasing', 'habit', 'implementing', 'strengthen', \"n't\", 'le', 'present', 'enjoy', 'attack', 'round', 'Calculating', 'Even', 'healthier', 'educator', 'source', 'last', 'opening', 'carried', 'year', 'lower', 'course', 'also', 'influenced', 'Therefore', 'Although', 'well', 'Last', 'flow', 'roll', 'people', 'income', 'diet', 'order', 'work', 'anywhere', 'early', 'exercise', 'manage', 'enthusiasm', 'For', 'important', 'preparing', 'The', 'beauty', 'financial', 'looking', 'end', 'top', 'healthy', 'old', 'By', 'drama', 'fun', 'overcome', 'No', 'paper', 'game', 'To', 'need', 'assessment', 'time', 'one', 'outside', 'receive', 'result', 'ball', 'lesson', 'common', 'strength', 'vital', 'effort', 'monthly', 'soundly', 'exciting', 'aware'}\n",
            "[\"Last night . It 's night people sleep soundly , others ca n't sleep well . That condition , watching Everton Liverpool match . The end result pleasing Everton , painful Liverpool , making last night 's beauty something le enjoyable Liverpool fan . For football fan , course , flow game rhythm game still fun watch . The match skill top club , enthusiasm enthusiasm lower club , present exciting match drama enjoy . Calculating paper , Liverpool able overcome match , soccer ball still , round roll time anywhere .\", \"The heart vital organ work non-stop play important role pumping blood throughout body support survival . Even though still young , n't mean Hermina 's friend n't need maintain heart health . In fact , implementing healthy lifestyle habit good heart early possible , Hermina 's friend heart remains healthy old . Although stroke , heart attack , heart condition common people 60 year old , young people 20 also need aware heart disease . Heart disease young age occur due unhealthy lifestyle , lack exercise , poor diet , unhealthy habit carried year . Therefore , changing lifestyle healthier one important investment heart health long term .\", \"A teacher 's salary vary greatly influenced several factor employee rank , competency , educator certification , performance assessment , work experience factor . No matter much salary receive , important thing manage salary wisely . Therefore , recording expense income preparing monthly budget important order manage salary wisely . To increase financial strength , apart relying salary , teacher also increase source income looking additional work providing additional private lesson outside lesson , opening side business additional work . By additional income , strengthen financial condition speed effort achieve financial goal .\"]\n"
          ]
        }
      ]
    },
    {
      "cell_type": "markdown",
      "source": [
        "### Bag of Words Olahraga"
      ],
      "metadata": {
        "id": "lIVhIwyYuw03"
      }
    },
    {
      "cell_type": "code",
      "source": [
        "sentences = [\"Last night. It's a night where some people can sleep soundly, and others can't sleep well. That was the condition, when watching the Everton and Liverpool match. The end result was pleasing for Everton, and very painful for Liverpool, making last night's beauty something less enjoyable for Liverpool fans. For football fans, of course, the flow of the game and the rhythm of the game are still fun to watch. The match between the skills of the top clubs, with the enthusiasm and enthusiasm of the lower clubs, presents an exciting match drama to enjoy. Calculating on paper, Liverpool should be able to overcome this match, but the soccer ball is still the same as before, it is round and can roll at any time and anywhere.\"]\n",
        "corpus = []\n",
        "for sent in sentences:\n",
        "    words  = word_tokenize(sent)\n",
        "    texts = [lemmatizer.lemmatize(word) for word in words if word not in set(stopwords.words('english'))]\n",
        "    text = ' '.join(texts)\n",
        "    corpus.append(text)\n",
        "print(corpus)   #### Cleaned Data\n",
        "cv = CountVectorizer() ## Creating Object for CountVectorizer\n",
        "word_counts = cv.fit_transform(corpus).toarray()\n",
        "print(word_counts)\n",
        "print(\"Jumlah array Bag of Words:\", len(word_counts[0]))"
      ],
      "metadata": {
        "id": "VIK2zeenqxnH",
        "colab": {
          "base_uri": "https://localhost:8080/"
        },
        "outputId": "08ceedbb-0d84-4bb8-c9cc-4194fee9e0ed"
      },
      "execution_count": null,
      "outputs": [
        {
          "output_type": "stream",
          "name": "stdout",
          "text": [
            "[\"Last night . It 's night people sleep soundly , others ca n't sleep well . That condition , watching Everton Liverpool match . The end result pleasing Everton , painful Liverpool , making last night 's beauty something le enjoyable Liverpool fan . For football fan , course , flow game rhythm game still fun watch . The match skill top club , enthusiasm enthusiasm lower club , present exciting match drama enjoy . Calculating paper , Liverpool able overcome match , soccer ball still , round roll time anywhere .\"]\n",
            "[[1 1 1 1 1 1 2 1 1 1 1 1 1 2 2 1 2 1 1 1 1 2 1 2 1 4 1 1 4 3 1 1 1 1 1 1\n",
            "  1 1 1 1 1 1 2 1 1 1 2 1 2 1 1 1 1 1]]\n",
            "Jumlah array Bag of Words: 54\n"
          ]
        }
      ]
    },
    {
      "cell_type": "markdown",
      "source": [
        "terdapat 54 kata yang bukan termasuk stopwords pada bag of words olahraga"
      ],
      "metadata": {
        "id": "nMzCTTSNxLN7"
      }
    },
    {
      "cell_type": "markdown",
      "source": [
        "### Bag of Words Kesehatan"
      ],
      "metadata": {
        "id": "uEh1YAPgvNP_"
      }
    },
    {
      "cell_type": "code",
      "source": [
        "sentences = [\"The heart is a vital organ that works non-stop because it plays an important role in pumping blood throughout the body to support survival. Even though you are still young, that doesn't mean that Hermina's friends don't need to maintain heart health. In fact, by implementing a healthy lifestyle or habits that are good for the heart as early as possible, Hermina's friends can have a heart that remains healthy until they are old. Although strokes, heart attacks, or other heart conditions are more common in people over 60 years old, young people in their 20s also need to be aware of heart disease. Heart disease at a young age can occur due to an unhealthy lifestyle, such as lack of exercise, poor diet, and other unhealthy habits that have been carried out for years. Therefore, changing your lifestyle to a healthier one can be an important investment for heart health in the long term.\"]\n",
        "corpus = []\n",
        "for sent in sentences:\n",
        "    words  = word_tokenize(sent)\n",
        "    texts = [lemmatizer.lemmatize(word) for word in words if word not in set(stopwords.words('english'))]\n",
        "    text = ' '.join(texts)\n",
        "    corpus.append(text)\n",
        "print(corpus)   #### Cleaned Data\n",
        "cv = CountVectorizer() ## Creating Object for CountVectorizer\n",
        "word_counts = cv.fit_transform(corpus).toarray()\n",
        "print(word_counts)\n",
        "print(\"Jumlah array Bag of Words:\", len(word_counts[0]))"
      ],
      "metadata": {
        "id": "vhpCoEZlvVZQ",
        "colab": {
          "base_uri": "https://localhost:8080/"
        },
        "outputId": "f8d39025-e975-410c-ebd1-ba06695421e3"
      },
      "execution_count": null,
      "outputs": [
        {
          "output_type": "stream",
          "name": "stdout",
          "text": [
            "[\"The heart vital organ work non-stop play important role pumping blood throughout body support survival . Even though still young , n't mean Hermina 's friend n't need maintain heart health . In fact , implementing healthy lifestyle habit good heart early possible , Hermina 's friend heart remains healthy old . Although stroke , heart attack , heart condition common people 60 year old , young people 20 also need aware heart disease . Heart disease young age occur due unhealthy lifestyle , lack exercise , poor diet , unhealthy habit carried year . Therefore , changing lifestyle healthier one important investment heart health long term .\"]\n",
            "[[1 1 1 1 1 1 1 1 1 1 1 1 1 1 2 1 1 1 1 1 2 1 2 2 1 2 9 2 1 2 1 1 1 3 1 1\n",
            "  1 2 1 1 2 1 1 2 1 1 1 1 1 1 1 1 1 1 1 1 1 1 1 1 2 1 1 2 3]]\n",
            "Jumlah array Bag of Words: 65\n"
          ]
        }
      ]
    },
    {
      "cell_type": "markdown",
      "source": [
        "terdapat 65 kata yang bukan termasuk stopwords pada bag of words kesehatan"
      ],
      "metadata": {
        "id": "5LQzdBMXxSFT"
      }
    },
    {
      "cell_type": "markdown",
      "source": [
        "### Bag of Words Keuangan"
      ],
      "metadata": {
        "id": "kjQJZt3tvWE_"
      }
    },
    {
      "cell_type": "code",
      "source": [
        "sentences = [\"A teacher's salary can vary greatly because it can be influenced by several factors such as employee rank, competency, educator certification, performance assessment, work experience and other factors. No matter how much salary you receive, the most important thing is how to manage your salary wisely. Therefore, recording expenses and income and preparing a monthly budget is important in order to manage your salary wisely. To increase financial strength, apart from relying on salary, teachers can also increase their source of income by looking for additional work such as providing additional private lessons outside of lessons, opening a side business or other additional work. By having additional income, this can strengthen your financial condition and speed up efforts to achieve financial goals.\"]\n",
        "corpus = []\n",
        "for sent in sentences:\n",
        "    words  = word_tokenize(sent)\n",
        "    texts = [lemmatizer.lemmatize(word) for word in words if word not in set(stopwords.words('english'))]\n",
        "    text = ' '.join(texts)\n",
        "    corpus.append(text)\n",
        "print(corpus)   #### Cleaned Data\n",
        "cv = CountVectorizer() ## Creating Object for CountVectorizer\n",
        "word_counts = cv.fit_transform(corpus).toarray()\n",
        "print(word_counts)\n",
        "print(\"Jumlah array Bag of Words:\", len(word_counts[0]))"
      ],
      "metadata": {
        "id": "KbfHZRQhvZI3",
        "colab": {
          "base_uri": "https://localhost:8080/"
        },
        "outputId": "8621cb35-ce27-4682-efd3-60ab80f15765"
      },
      "execution_count": null,
      "outputs": [
        {
          "output_type": "stream",
          "name": "stdout",
          "text": [
            "[\"A teacher 's salary vary greatly influenced several factor employee rank , competency , educator certification , performance assessment , work experience factor . No matter much salary receive , important thing manage salary wisely . Therefore , recording expense income preparing monthly budget important order manage salary wisely . To increase financial strength , apart relying salary , teacher also increase source income looking additional work providing additional private lesson outside lesson , opening side business additional work . By additional income , strengthen financial condition speed effort achieve financial goal .\"]\n",
            "[[1 4 1 1 1 1 1 1 1 1 1 1 1 1 1 1 2 3 1 1 2 3 2 1 2 1 2 1 1 1 1 1 1 1 1 1\n",
            "  1 1 1 1 1 1 5 1 1 1 1 1 1 2 1 1 1 1 2 3]]\n",
            "Jumlah array Bag of Words: 56\n"
          ]
        }
      ]
    },
    {
      "cell_type": "markdown",
      "source": [
        "terdapat 56 kata yang bukan termasuk stopwords pada bag of words keuangan"
      ],
      "metadata": {
        "id": "JXQVg34PxTq4"
      }
    },
    {
      "cell_type": "markdown",
      "source": [
        "## Mengklasifikasi teks yang disediakan ke topik yang benar"
      ],
      "metadata": {
        "id": "tw6WVsgorC2_"
      }
    },
    {
      "cell_type": "code",
      "source": [
        "# A new text to be classified based on topic\n",
        "query_text = \"Cristiano Ronaldo came off the bench to earn Manchester United a hard-fought 2-1 victory at Everton in the Premier League on Sunday, taking his career goal tally to 700 in the process. Just as United did last weekend in their derby mauling at the hands of local rivals Manchester City, they again found themselves behind early on at Goodison Park after Alex Iwobi curled a sublime strike into the net from 20 metres.\"\n",
        "query_words = word_tokenize(query_text)\n",
        "query_words_clean = [lemmatizer.lemmatize(word) for word in query_words if word not in set(stopwords.words('english'))]\n",
        "query_words_corpus = [word for word in query_words_clean if word in set(bow_keys)]\n",
        "query_text_corpus = ' '.join(query_words_corpus)\n",
        "corpus_texts.append(query_text_corpus)\n",
        "\n",
        "cv = CountVectorizer() ## Creating Object for CountVectorizer\n",
        "bow_vectors = cv.fit_transform(corpus_texts).toarray()\n",
        "print(bow_vectors)\n",
        "print(len(bow_vectors[0]))"
      ],
      "metadata": {
        "colab": {
          "base_uri": "https://localhost:8080/"
        },
        "id": "FUMzg93-JAFy",
        "outputId": "7184d560-f805-49b0-81f7-60cf75d1e90c"
      },
      "execution_count": null,
      "outputs": [
        {
          "output_type": "stream",
          "name": "stdout",
          "text": [
            "[[0 0 1 0 0 0 0 0 1 0 0 0 0 1 1 0 0 0 0 0 1 1 0 0 0 2 0 0 1 1 0 0 1 0 0 0\n",
            "  0 0 1 1 1 2 0 2 1 0 0 0 0 0 2 0 1 1 1 0 1 2 0 0 0 0 0 0 0 0 0 0 0 0 0 0\n",
            "  0 0 1 0 2 1 0 0 4 0 0 1 0 1 0 4 0 0 0 0 0 3 0 0 0 0 0 0 0 0 1 0 1 1 1 1\n",
            "  0 0 1 0 0 0 1 0 0 0 0 0 0 0 0 1 1 0 1 1 0 0 0 1 2 1 1 1 0 0 2 0 0 0 0 0\n",
            "  0 0 0 1 2 0 0 0 0 1 0 1 0 0 0 1 1 1 0 0 0 0]\n",
            " [1 1 0 0 0 1 1 1 0 0 0 1 1 0 0 1 1 0 0 0 0 0 1 0 1 0 1 0 1 0 1 2 0 1 1 0\n",
            "  0 0 0 0 0 0 1 0 0 1 0 0 1 0 0 0 0 0 0 2 0 0 0 1 0 2 2 1 2 9 2 1 2 1 0 0\n",
            "  0 1 0 1 0 0 0 3 0 1 0 0 1 0 0 0 0 1 0 0 2 0 0 1 1 2 1 0 0 1 0 0 0 0 0 2\n",
            "  0 1 0 1 1 0 0 0 0 1 0 0 0 0 1 0 0 1 0 0 0 0 0 0 0 0 0 0 0 0 1 1 0 0 1 1\n",
            "  1 0 1 0 1 1 0 1 1 0 0 0 2 0 1 0 0 0 0 1 2 3]\n",
            " [0 0 0 1 4 0 1 0 0 1 1 0 0 0 0 0 0 1 1 1 0 0 0 1 0 0 0 1 1 0 0 0 0 0 0 1\n",
            "  1 1 0 0 0 0 0 0 0 0 1 1 0 2 0 3 0 0 0 0 0 0 1 0 1 0 0 0 0 0 0 0 2 0 3 2\n",
            "  1 0 0 0 0 0 2 0 0 0 1 0 0 0 2 0 1 0 1 1 0 0 1 0 0 0 0 1 1 0 0 1 0 0 0 0\n",
            "  1 0 0 0 0 1 0 1 1 0 1 1 1 1 0 0 0 0 0 0 5 1 1 0 0 0 0 0 1 1 0 0 1 1 0 0\n",
            "  0 2 0 0 0 1 1 0 0 0 1 0 0 1 0 0 0 0 2 3 0 0]\n",
            " [1 0 0 0 0 0 0 0 0 0 0 0 0 0 0 0 0 0 0 0 0 0 0 0 0 0 0 0 0 0 0 0 0 0 1 0\n",
            "  0 0 0 0 0 0 0 1 0 0 0 0 0 0 0 0 0 0 0 0 0 0 1 0 0 0 0 0 0 0 0 0 0 0 0 0\n",
            "  0 0 0 0 1 0 0 0 0 0 0 0 0 0 0 0 0 0 0 0 0 0 0 0 0 0 0 0 0 0 0 0 0 0 0 0\n",
            "  0 0 0 0 0 0 0 0 0 0 0 0 0 0 0 0 0 0 0 0 0 0 0 0 0 0 0 0 0 0 0 0 0 0 0 0\n",
            "  0 0 0 0 0 0 0 0 0 0 0 0 0 0 0 0 0 0 0 0 0 0]]\n",
            "166\n"
          ]
        }
      ]
    },
    {
      "cell_type": "code",
      "source": [
        "# Normalize the BoW vectors\n",
        "bow_texts_norm = []\n",
        "for bow in bow_vectors:\n",
        "  length = (sum(i*i for i in bow)) ** 0.5\n",
        "  bow_norm = bow / length\n",
        "  bow_texts_norm.append(bow_norm)\n",
        "\n",
        "# Compute similarity using dot product\n",
        "similarity_vector = []\n",
        "bow_norm_query = bow_texts_norm[3]\n",
        "for bow in bow_texts_norm[:3]:\n",
        "  similarity_vector.append(sum(i*j for i,j in zip(bow,bow_norm_query)))\n",
        "print(similarity_vector)\n",
        "\n",
        "# Find the highest similarity\n",
        "id_max_sim = similarity_vector.index(max(similarity_vector))\n",
        "if (id_max_sim == 0):\n",
        "  print (\"The query text is classified as: Sport\")\n",
        "elif (id_max_sim == 1):\n",
        "  print (\"The query text is classified as: Medical\")\n",
        "elif (id_max_sim == 2):\n",
        "  print (\"The query text is classified as: Finance\")"
      ],
      "metadata": {
        "colab": {
          "base_uri": "https://localhost:8080/"
        },
        "id": "BsTJygcZJOe5",
        "outputId": "6733815c-cdf6-4dfc-a20a-e98a406d897d"
      },
      "execution_count": null,
      "outputs": [
        {
          "output_type": "stream",
          "name": "stdout",
          "text": [
            "[0.16398401233815754, 0.06372529878771661, 0.03779644730092272]\n",
            "The query text is classified as: Sport\n"
          ]
        }
      ]
    },
    {
      "cell_type": "markdown",
      "source": [
        "Dapat dilihat bahwa teks pada soal itu termasuk kedalam topik Sport atau Olahraga."
      ],
      "metadata": {
        "id": "u-zG-to4pKjC"
      }
    }
  ]
}